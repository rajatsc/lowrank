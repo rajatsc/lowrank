{
 "cells": [
  {
   "cell_type": "code",
   "execution_count": 1,
   "id": "72578083",
   "metadata": {},
   "outputs": [],
   "source": [
    "import cv2"
   ]
  },
  {
   "cell_type": "code",
   "execution_count": 4,
   "id": "01000c3a",
   "metadata": {},
   "outputs": [
    {
     "name": "stdout",
     "output_type": "stream",
     "text": [
      "True\n",
      "351.0\n"
     ]
    }
   ],
   "source": [
    "cap = cv2.VideoCapture('/home/rajat/Dropbox/projects/lowrank/data/a.mp4')\n",
    "print(cap.set(1, 351))\n",
    "print(cap.get(1))"
   ]
  },
  {
   "cell_type": "code",
   "execution_count": 8,
   "id": "c4afa781",
   "metadata": {},
   "outputs": [
    {
     "data": {
      "text/plain": [
       "(576, 720)"
      ]
     },
     "execution_count": 8,
     "metadata": {},
     "output_type": "execute_result"
    }
   ],
   "source": [
    "ret, frame = cap.read()\n",
    "frame.shape\n",
    "gray = cv2.cvtColor(frame, cv2.COLOR_BGR2GRAY)\n",
    "gray.shape"
   ]
  },
  {
   "cell_type": "code",
   "execution_count": null,
   "id": "4c6f0d11",
   "metadata": {},
   "outputs": [],
   "source": []
  }
 ],
 "metadata": {
  "kernelspec": {
   "display_name": "Python 3",
   "language": "python",
   "name": "python3"
  },
  "language_info": {
   "codemirror_mode": {
    "name": "ipython",
    "version": 3
   },
   "file_extension": ".py",
   "mimetype": "text/x-python",
   "name": "python",
   "nbconvert_exporter": "python",
   "pygments_lexer": "ipython3",
   "version": "3.7.10"
  }
 },
 "nbformat": 4,
 "nbformat_minor": 5
}
